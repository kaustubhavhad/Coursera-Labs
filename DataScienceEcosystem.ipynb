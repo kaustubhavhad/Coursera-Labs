{
 "cells": [
  {
   "cell_type": "markdown",
   "id": "8c920272",
   "metadata": {},
   "source": [
    "# Data Science Tools and Ecosystem"
   ]
  },
  {
   "cell_type": "markdown",
   "id": "79c6b95f",
   "metadata": {},
   "source": [
    "In this notebook, Data Science Tooland Ecosystem are Summarized"
   ]
  },
  {
   "cell_type": "markdown",
   "id": "bf7f9e39",
   "metadata": {},
   "source": [
    "Some of the popular languages that Data Scientist use are:\n",
    "1. Python\n",
    "2. R\n",
    "3. SQL\n",
    "4. C++"
   ]
  },
  {
   "cell_type": "markdown",
   "id": "fae02d55",
   "metadata": {},
   "source": [
    "Some of the commnly used libraries used by data Scientist included:\n",
    "\n",
    "NumPy\n",
    "Pandas\n",
    "Matplotlib\n",
    "Seaborn\n",
    "Scikit-learn\n",
    "TensorFlow\n",
    "Keras\n",
    "PyTorch\n",
    "SciPy\n",
    "NLTK (Natural Language Toolkit)"
   ]
  },
  {
   "cell_type": "markdown",
   "id": "5fd696bd",
   "metadata": {},
   "source": [
    "|Data Science Tool|\n",
    "|---|\n",
    "|SAS|\n",
    "|Apache Hadoop|\n",
    "|TensorFlow|"
   ]
  },
  {
   "cell_type": "markdown",
   "id": "9ca55db8",
   "metadata": {},
   "source": [
    "### Below are a few examples of evaluating arithmetic expression in Python"
   ]
  },
  {
   "cell_type": "code",
   "execution_count": 1,
   "id": "011f1d82",
   "metadata": {},
   "outputs": [
    {
     "data": {
      "text/plain": [
       "17"
      ]
     },
     "execution_count": 1,
     "metadata": {},
     "output_type": "execute_result"
    }
   ],
   "source": [
    "#this is a common arithmetic example to multiply and then add integer\n",
    "(3*4)+5"
   ]
  },
  {
   "cell_type": "code",
   "execution_count": 2,
   "id": "0e9ea08e",
   "metadata": {},
   "outputs": [
    {
     "data": {
      "text/plain": [
       "3.3333333333333335"
      ]
     },
     "execution_count": 2,
     "metadata": {},
     "output_type": "execute_result"
    }
   ],
   "source": [
    "#This will convert 200 minutes to hours by dividing by 60\n",
    "200/60"
   ]
  },
  {
   "cell_type": "markdown",
   "id": "774a81db",
   "metadata": {},
   "source": [
    "__Objective__\n",
    "* List popular languages for Data science\n",
    "* List popular libraries for Data science\n",
    "* List of well known Data science Tool\n",
    "* How to provide comment in the cell"
   ]
  },
  {
   "cell_type": "markdown",
   "id": "b57905a7",
   "metadata": {},
   "source": [
    "## Author\n",
    "\n",
    "Kaustubh Avhad\n"
   ]
  }
 ],
 "metadata": {
  "kernelspec": {
   "display_name": "Python 3 (ipykernel)",
   "language": "python",
   "name": "python3"
  },
  "language_info": {
   "codemirror_mode": {
    "name": "ipython",
    "version": 3
   },
   "file_extension": ".py",
   "mimetype": "text/x-python",
   "name": "python",
   "nbconvert_exporter": "python",
   "pygments_lexer": "ipython3",
   "version": "3.11.5"
  }
 },
 "nbformat": 4,
 "nbformat_minor": 5
}
